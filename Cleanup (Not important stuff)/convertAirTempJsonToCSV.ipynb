{
 "cells": [
  {
   "cell_type": "code",
   "execution_count": 1,
   "metadata": {},
   "outputs": [],
   "source": [
    "def writeJsonToCsv(a,isFirstFile):    \n",
    "    stationInfo = {}\n",
    "    for station in a['metadata']['stations']:\n",
    "        if station['id'] != station['device_id']:\n",
    "            print(\"dont have device\")\n",
    "        stationInfo[station['id']] = {\n",
    "            'name':station['name'],\n",
    "            \"latitude\":station['location']['latitude'],\n",
    "            \"longitude\":station['location']['longitude']\n",
    "        }\n",
    "    #print(stationInfo)\n",
    "\n",
    "    itemInfo = []\n",
    "    with open('somefile.csv', 'a') as the_file:\n",
    "        if isFirstFile is True:\n",
    "            header = 'datetime,station_id,value,name,longitude,latitude\\n'\n",
    "            the_file.write(header)  \n",
    "            #print(header, end = '')\n",
    "        for item in a['items']:\n",
    "            b = item['timestamp']\n",
    "            for reading in item['readings']:\n",
    "                to_csv = '{},{},{},{},{},{}\\n'.format(\n",
    "                    b,\n",
    "                    reading['station_id'],\n",
    "                    reading['value'],\n",
    "                    stationInfo[reading['station_id']]['name'],\n",
    "                    stationInfo[reading['station_id']]['longitude'],\n",
    "                    stationInfo[reading['station_id']]['latitude'],\n",
    "                )\n",
    "                #print(to_csv,end='')\n",
    "                the_file.write(to_csv)   "
   ]
  },
  {
   "cell_type": "code",
   "execution_count": 2,
   "metadata": {},
   "outputs": [
    {
     "name": "stdout",
     "output_type": "stream",
     "text": [
      "2019-11-22\n",
      "2019-11-23\n",
      "2019-11-24\n",
      "2019-11-25\n",
      "2019-11-26\n",
      "2019-11-27\n",
      "2019-11-28\n",
      "2019-11-29\n",
      "2019-11-30\n",
      "2019-12-01\n",
      "2019-12-02\n",
      "2019-12-03\n",
      "2019-12-04\n",
      "2019-12-05\n",
      "2019-12-06\n",
      "2019-12-07\n",
      "2019-12-08\n",
      "2019-12-09\n",
      "2019-12-10\n",
      "2019-12-11\n",
      "2019-12-12\n",
      "2019-12-13\n",
      "2019-12-14\n",
      "2019-12-15\n",
      "2019-12-16\n",
      "2019-12-17\n",
      "2019-12-18\n",
      "2019-12-19\n",
      "2019-12-20\n",
      "2019-12-21\n",
      "2019-12-22\n",
      "2019-12-23\n",
      "2019-12-24\n",
      "2019-12-25\n",
      "2019-12-26\n",
      "2019-12-27\n",
      "2019-12-28\n",
      "2019-12-29\n",
      "2019-12-30\n",
      "2019-12-31\n",
      "2020-01-01\n",
      "2020-01-02\n",
      "2020-01-03\n",
      "2020-01-04\n",
      "2020-01-05\n",
      "2020-01-06\n",
      "2020-01-07\n",
      "2020-01-08\n",
      "2020-01-09\n",
      "2020-01-10\n",
      "2020-01-11\n",
      "2020-01-12\n",
      "2020-01-13\n",
      "2020-01-14\n",
      "2020-01-15\n",
      "2020-01-16\n",
      "2020-01-17\n",
      "2020-01-18\n",
      "2020-01-19\n",
      "2020-01-20\n",
      "2020-01-21\n",
      "2020-01-22\n",
      "2020-01-23\n",
      "2020-01-24\n",
      "2020-01-25\n",
      "2020-01-26\n",
      "2020-01-27\n",
      "2020-01-28\n",
      "2020-01-29\n",
      "2020-01-30\n",
      "2020-01-31\n",
      "2020-02-01\n",
      "2020-02-02\n",
      "2020-02-03\n",
      "2020-02-04\n",
      "2020-02-05\n",
      "2020-02-06\n",
      "2020-02-07\n",
      "2020-02-08\n",
      "2020-02-09\n",
      "2020-02-10\n",
      "2020-02-11\n",
      "2020-02-12\n",
      "2020-02-13\n",
      "2020-02-14\n",
      "2020-02-15\n",
      "2020-02-16\n",
      "2020-02-17\n",
      "2020-02-18\n",
      "2020-02-19\n",
      "2020-02-20\n",
      "2020-02-21\n",
      "2020-02-22\n"
     ]
    }
   ],
   "source": [
    "import requests\n",
    "from datetime import datetime\n",
    "from datetime import timedelta\n",
    "today = datetime.today()\n",
    "isFirstFile = True\n",
    "for i in range(94):\n",
    "    yesterday = today - timedelta(days=93-i)\n",
    "    date_time = yesterday.strftime(\"%Y-%m-%d\")\n",
    "    #print(\"date and time:\",date_time)\n",
    "    print(date_time)\n",
    "    # call API\n",
    "    url = 'https://api.data.gov.sg/v1/environment/air-temperature?date={}'.format(date_time)\n",
    "    r = requests.get(url)\n",
    "    a= r.json()\n",
    "    writeJsonToCsv(a,isFirstFile)\n",
    "    # if continue in the loop after first loop, then isFileFile is False\n",
    "    isFirstFile = False"
   ]
  },
  {
   "cell_type": "code",
   "execution_count": 4,
   "metadata": {},
   "outputs": [
    {
     "name": "stdout",
     "output_type": "stream",
     "text": [
      "2020-02-23\n"
     ]
    }
   ],
   "source": [
    "# Run to get today's weather data\n",
    "yesterday = today\n",
    "date_time = yesterday.strftime(\"%Y-%m-%d\")\n",
    "#print(\"date and time:\",date_time)\n",
    "print(date_time)\n",
    "# call API\n",
    "url = 'https://api.data.gov.sg/v1/environment/air-temperature?date={}'.format(date_time)\n",
    "r = requests.get(url)\n",
    "a= r.json()\n",
    "writeJsonToCsv(a,isFirstFile)"
   ]
  },
  {
   "cell_type": "code",
   "execution_count": null,
   "metadata": {},
   "outputs": [],
   "source": []
  },
  {
   "cell_type": "code",
   "execution_count": null,
   "metadata": {},
   "outputs": [],
   "source": []
  },
  {
   "cell_type": "code",
   "execution_count": null,
   "metadata": {},
   "outputs": [],
   "source": [
    "p = 'S107'\n",
    "\n",
    "stationInfo[p]"
   ]
  },
  {
   "cell_type": "code",
   "execution_count": null,
   "metadata": {
    "scrolled": false
   },
   "outputs": [],
   "source": [
    " \n",
    "        "
   ]
  },
  {
   "cell_type": "code",
   "execution_count": null,
   "metadata": {},
   "outputs": [],
   "source": []
  }
 ],
 "metadata": {
  "kernelspec": {
   "display_name": "Python 3",
   "language": "python",
   "name": "python3"
  },
  "language_info": {
   "codemirror_mode": {
    "name": "ipython",
    "version": 3
   },
   "file_extension": ".py",
   "mimetype": "text/x-python",
   "name": "python",
   "nbconvert_exporter": "python",
   "pygments_lexer": "ipython3",
   "version": "3.7.4"
  }
 },
 "nbformat": 4,
 "nbformat_minor": 2
}
