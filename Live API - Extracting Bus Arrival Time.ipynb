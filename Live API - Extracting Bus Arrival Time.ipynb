{
 "cells": [
  {
   "cell_type": "code",
   "execution_count": 1,
   "metadata": {},
   "outputs": [],
   "source": [
    "import json\n",
    "import urllib\n",
    "from urllib.parse import urlparse\n",
    "import httplib2 as http\n",
    "import pandas as pd\n",
    "import numpy as np\n",
    "import datetime\n",
    "import time"
   ]
  },
  {
   "cell_type": "code",
   "execution_count": 2,
   "metadata": {},
   "outputs": [],
   "source": [
    "all_busstops = pd.read_csv('data/all_busstops.csv')['0'].values.tolist()"
   ]
  },
  {
   "cell_type": "code",
   "execution_count": 3,
   "metadata": {},
   "outputs": [
    {
     "data": {
      "text/plain": [
       "5040"
      ]
     },
     "execution_count": 3,
     "metadata": {},
     "output_type": "execute_result"
    }
   ],
   "source": [
    "len(all_busstops)"
   ]
  },
  {
   "cell_type": "code",
   "execution_count": null,
   "metadata": {
    "scrolled": true
   },
   "outputs": [
    {
     "name": "stderr",
     "output_type": "stream",
     "text": [
      "C:\\ProgramData\\Anaconda3\\lib\\site-packages\\ipykernel_launcher.py:47: SettingWithCopyWarning: \n",
      "A value is trying to be set on a copy of a slice from a DataFrame.\n",
      "Try using .loc[row_indexer,col_indexer] = value instead\n",
      "\n",
      "See the caveats in the documentation: http://pandas.pydata.org/pandas-docs/stable/indexing.html#indexing-view-versus-copy\n",
      "C:\\ProgramData\\Anaconda3\\lib\\site-packages\\ipykernel_launcher.py:48: SettingWithCopyWarning: \n",
      "A value is trying to be set on a copy of a slice from a DataFrame.\n",
      "Try using .loc[row_indexer,col_indexer] = value instead\n",
      "\n",
      "See the caveats in the documentation: http://pandas.pydata.org/pandas-docs/stable/indexing.html#indexing-view-versus-copy\n"
     ]
    },
    {
     "name": "stdout",
     "output_type": "stream",
     "text": [
      "02-23_23:57:23 completed\n",
      "02-24_00:07:44 completed\n",
      "02-24_00:17:47 completed\n",
      "02-24_00:27:34 completed\n"
     ]
    }
   ],
   "source": [
    "# API Call for just 1 minute of data\n",
    "# update frequency- 1 minutes\n",
    "\n",
    "while True: \n",
    "    bus_arrival_full = pd.DataFrame(columns = ['Operator', 'ServiceNo', 'time_extracted', 'BusStopCode',\n",
    "       'OriginCode_NextBus1', 'DestinationCode_NextBus1',\n",
    "       'EstimatedArrival_NextBus1', 'Latitude_NextBus1', 'Longitude_NextBus1',\n",
    "       'VisitNumber_NextBus1', 'Load_NextBus1', 'Feature_NextBus1',\n",
    "       'Type_NextBus1' ])    \n",
    "    \n",
    "    if __name__==\"__main__\":\n",
    "     #Authentication parameters\n",
    "        headers = { 'AccountKey' : 'pNhcp/4TTU69vdvLbYsuuw==','accept' : 'application/json'} #this is by default\n",
    "        #count = 0\n",
    "         #API parameters\n",
    "        for bus_stop in all_busstops:\n",
    "#             count +=1\n",
    "#             if count % 100 == 0:\n",
    "#                 print(count)\n",
    "            uri = 'http://datamall2.mytransport.sg/' #Resource URL\n",
    "            path = '/ltaodataservice/BusArrivalv2?BusStopCode='\n",
    "            serviceno = bus_stop\n",
    "            #Build query string & specify type of API call\n",
    "\n",
    "            target = urlparse(uri + path + serviceno)\n",
    "            method = 'GET'\n",
    "            body = ''\n",
    "\n",
    "            #Get handle to http\n",
    "            h = http.Http()\n",
    "            #Obtain results\n",
    "            response, content = h.request(target.geturl(),method,body,headers)\n",
    "\n",
    "            #Parse JSON\n",
    "            jsonObj = json.loads(content)\n",
    "\n",
    "            # from JASON to pandas dataframe  \n",
    "            bus_arrival_now = pd.DataFrame.from_dict (jsonObj['Services'])\n",
    "\n",
    "            # get current time\n",
    "            currentDT = datetime.datetime.now()\n",
    "            currentDT.strftime(\"%Y-%m-%d %H:%M:%S\")\n",
    "\n",
    "            #data manupulation, combine all data to a single dataframe\n",
    "            try: \n",
    "                operator = bus_arrival_now[['Operator','ServiceNo']]\n",
    "                operator['time_extracted'] = currentDT.strftime(\"%Y-%m-%d %H:%M:%S\")\n",
    "                operator['BusStopCode'] = jsonObj['BusStopCode']\n",
    "\n",
    "                NextBus1 = bus_arrival_now['NextBus'].apply(pd.Series).add_suffix('_NextBus1')\n",
    "        #         NextBus2 = bus_arrival_now['NextBus2'].apply(pd.Series).add_suffix('_NextBus2')\n",
    "        #         NextBus3 = bus_arrival_now['NextBus3'].apply(pd.Series).add_suffix('_NextBus3')\n",
    "\n",
    "                # join all subtables together\n",
    "        #         bus_arrival_partial = operator.join(NextBus1).join(NextBus2).join(NextBus3)\n",
    "                bus_arrival_partial = operator.join(NextBus1)\n",
    "\n",
    "                # append to full dataset\n",
    "                bus_arrival_full = bus_arrival_full.append(bus_arrival_partial, ignore_index = True)\n",
    "\n",
    "            except:\n",
    "                pass\n",
    "\n",
    "    filename = 'data/bus_arrival_' + currentDT.strftime(\"%m-%d_%H%M%S\")+ '.csv'\n",
    "    bus_arrival_full.to_csv(filename)\n",
    "    print(currentDT.strftime(\"%m-%d_%H:%M:%S\"), 'completed')\n",
    "    time.sleep(120) # sleep for 2 minutes"
   ]
  },
  {
   "cell_type": "code",
   "execution_count": null,
   "metadata": {},
   "outputs": [],
   "source": []
  }
 ],
 "metadata": {
  "kernelspec": {
   "display_name": "Python 3",
   "language": "python",
   "name": "python3"
  },
  "language_info": {
   "codemirror_mode": {
    "name": "ipython",
    "version": 3
   },
   "file_extension": ".py",
   "mimetype": "text/x-python",
   "name": "python",
   "nbconvert_exporter": "python",
   "pygments_lexer": "ipython3",
   "version": "3.6.8"
  }
 },
 "nbformat": 4,
 "nbformat_minor": 2
}
