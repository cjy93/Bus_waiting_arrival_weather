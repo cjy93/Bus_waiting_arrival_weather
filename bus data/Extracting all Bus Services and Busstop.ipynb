{
 "cells": [
  {
   "cell_type": "code",
   "execution_count": 1,
   "metadata": {},
   "outputs": [],
   "source": [
    "import json\n",
    "import urllib\n",
    "from urllib.parse import urlparse\n",
    "import httplib2 as http\n",
    "import pandas as pd\n",
    "import numpy as np\n",
    "import datetime"
   ]
  },
  {
   "cell_type": "code",
   "execution_count": 2,
   "metadata": {
    "scrolled": true
   },
   "outputs": [
    {
     "name": "stdout",
     "output_type": "stream",
     "text": [
      "0\n",
      "500\n",
      "1000\n",
      "1500\n",
      "2000\n",
      "2500\n",
      "3000\n",
      "3500\n",
      "4000\n",
      "4500\n",
      "5000\n",
      "5500\n",
      "6000\n",
      "6500\n",
      "7000\n",
      "7500\n",
      "8000\n",
      "8500\n",
      "9000\n",
      "9500\n",
      "10000\n",
      "10500\n",
      "11000\n",
      "11500\n",
      "12000\n",
      "12500\n",
      "13000\n",
      "13500\n",
      "14000\n",
      "14500\n",
      "15000\n",
      "15500\n",
      "16000\n",
      "16500\n",
      "17000\n",
      "17500\n",
      "18000\n",
      "18500\n",
      "19000\n",
      "19500\n",
      "20000\n",
      "20500\n",
      "21000\n",
      "21500\n",
      "22000\n",
      "22500\n",
      "23000\n",
      "23500\n",
      "24000\n",
      "24500\n",
      "25000\n",
      "25500\n",
      "26000\n",
      "26500\n",
      "27000\n",
      "27500\n",
      "28000\n",
      "28500\n",
      "29000\n",
      "29500\n",
      "      BusStopCode Direction  Distance Operator SAT_FirstBus SAT_LastBus  \\\n",
      "26008       43839         1      23.1     SMRT         0028        0254   \n",
      "26009       43649         1      23.4     SMRT         0029        0255   \n",
      "26010       43589         1      23.9     SMRT         0030        0256   \n",
      "26011       43579         1      24.3     SMRT         0031        0257   \n",
      "26012       43609         1      24.6     SMRT         0032        0258   \n",
      "\n",
      "      SUN_FirstBus SUN_LastBus ServiceNo StopSequence WD_FirstBus WD_LastBus  \n",
      "26008            -           -       NR8           57           -          -  \n",
      "26009            -           -       NR8           58           -          -  \n",
      "26010            -           -       NR8           59           -          -  \n",
      "26011            -           -       NR8           60           -          -  \n",
      "26012            -           -       NR8           61           -          -  \n"
     ]
    }
   ],
   "source": [
    "\n",
    "if __name__==\"__main__\":\n",
    " #Authentication parameters\n",
    "    headers = { 'AccountKey' : 'pNhcp/4TTU69vdvLbYsuuw==','accept' : 'application/json'} #this is by default\n",
    "    method = 'GET'\n",
    "    body = ''\n",
    "\n",
    "    # each API call only return 500 rows, hence writing a loop to extract more data\n",
    "    for i in range (0,30000,500):\n",
    "        \n",
    "        #API parameters\n",
    "        print(i)\n",
    "        uri = 'http://datamall2.mytransport.sg/' #Resource URL\n",
    "        path = '/ltaodataservice/BusRoutes?$skip='\n",
    "        #Build query string & specify type of API call\n",
    "        target = urlparse(uri + path+str(i))\n",
    "\n",
    "         #Get handle to http\n",
    "        h = http.Http()\n",
    "        #Obtain results\n",
    "        response, content = h.request(target.geturl(),method,body,headers)\n",
    "\n",
    "        #extract in json\n",
    "        jsonObj = json.loads(content)\n",
    "        #print (json.dumps(jsonObj['value'], sort_keys=True, indent=4))\n",
    "\n",
    "        #convert to CSV, save the file\n",
    "        bus_route = pd.DataFrame.from_dict (jsonObj['value'])\n",
    "        \n",
    "        #append to overall dataframe\n",
    "        bus_route_overall = bus_route_overall.append(bus_route, ignore_index = True)\n",
    "        \n",
    "print(bus_route_overall.tail())\n",
    "bus_route_overall.to_csv('data/bus_route_overall.csv')"
   ]
  },
  {
   "cell_type": "code",
   "execution_count": 3,
   "metadata": {},
   "outputs": [],
   "source": [
    "all_busstops = bus_route_overall['BusStopCode'].unique()"
   ]
  },
  {
   "cell_type": "code",
   "execution_count": 4,
   "metadata": {},
   "outputs": [],
   "source": [
    "pd.DataFrame(all_busstops).to_csv('data/all_busstops.csv')"
   ]
  }
 ],
 "metadata": {
  "kernelspec": {
   "display_name": "Python 3",
   "language": "python",
   "name": "python3"
  },
  "language_info": {
   "codemirror_mode": {
    "name": "ipython",
    "version": 3
   },
   "file_extension": ".py",
   "mimetype": "text/x-python",
   "name": "python",
   "nbconvert_exporter": "python",
   "pygments_lexer": "ipython3",
   "version": "3.6.8"
  }
 },
 "nbformat": 4,
 "nbformat_minor": 2
}
