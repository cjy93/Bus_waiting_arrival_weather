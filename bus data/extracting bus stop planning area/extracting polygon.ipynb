{
 "cells": [
  {
   "cell_type": "code",
   "execution_count": 1,
   "metadata": {},
   "outputs": [],
   "source": [
    "import json\n",
    "import requests\n",
    "import openpyxl\n",
    "import time\n",
    "import pandas as pd\n",
    "import numpy as np"
   ]
  },
  {
   "cell_type": "code",
   "execution_count": 4,
   "metadata": {
    "scrolled": true
   },
   "outputs": [
    {
     "data": {
      "text/html": [
       "<div>\n",
       "<style scoped>\n",
       "    .dataframe tbody tr th:only-of-type {\n",
       "        vertical-align: middle;\n",
       "    }\n",
       "\n",
       "    .dataframe tbody tr th {\n",
       "        vertical-align: top;\n",
       "    }\n",
       "\n",
       "    .dataframe thead th {\n",
       "        text-align: right;\n",
       "    }\n",
       "</style>\n",
       "<table border=\"1\" class=\"dataframe\">\n",
       "  <thead>\n",
       "    <tr style=\"text-align: right;\">\n",
       "      <th></th>\n",
       "      <th>Unnamed: 0</th>\n",
       "      <th>BusStopCode</th>\n",
       "      <th>Description</th>\n",
       "      <th>Latitude</th>\n",
       "      <th>Longitude</th>\n",
       "      <th>RoadName</th>\n",
       "      <th>planning_area</th>\n",
       "    </tr>\n",
       "  </thead>\n",
       "  <tbody>\n",
       "    <tr>\n",
       "      <th>5036</th>\n",
       "      <td>5036</td>\n",
       "      <td>99139</td>\n",
       "      <td>Blk 5</td>\n",
       "      <td>1.388195</td>\n",
       "      <td>103.987234</td>\n",
       "      <td>Changi Village Rd</td>\n",
       "      <td>CHANGI</td>\n",
       "    </tr>\n",
       "    <tr>\n",
       "      <th>5037</th>\n",
       "      <td>5037</td>\n",
       "      <td>99161</td>\n",
       "      <td>Bef Changi Beach CP 3</td>\n",
       "      <td>1.390262</td>\n",
       "      <td>103.992957</td>\n",
       "      <td>Nicoll Dr</td>\n",
       "      <td>CHANGI</td>\n",
       "    </tr>\n",
       "    <tr>\n",
       "      <th>5038</th>\n",
       "      <td>5038</td>\n",
       "      <td>99171</td>\n",
       "      <td>Changi Beach CP 2</td>\n",
       "      <td>1.391128</td>\n",
       "      <td>103.991021</td>\n",
       "      <td>Nicoll Dr</td>\n",
       "      <td>CHANGI</td>\n",
       "    </tr>\n",
       "    <tr>\n",
       "      <th>5039</th>\n",
       "      <td>5039</td>\n",
       "      <td>99181</td>\n",
       "      <td>Bef S'pore Aviation Ac</td>\n",
       "      <td>1.387754</td>\n",
       "      <td>103.988503</td>\n",
       "      <td>Telok Paku Rd</td>\n",
       "      <td>CHANGI</td>\n",
       "    </tr>\n",
       "    <tr>\n",
       "      <th>5040</th>\n",
       "      <td>5040</td>\n",
       "      <td>99189</td>\n",
       "      <td>S'pore Aviation Ac</td>\n",
       "      <td>1.388414</td>\n",
       "      <td>103.989716</td>\n",
       "      <td>Telok Paku Rd</td>\n",
       "      <td>CHANGI</td>\n",
       "    </tr>\n",
       "  </tbody>\n",
       "</table>\n",
       "</div>"
      ],
      "text/plain": [
       "      Unnamed: 0  BusStopCode             Description  Latitude   Longitude  \\\n",
       "5036        5036        99139                   Blk 5  1.388195  103.987234   \n",
       "5037        5037        99161   Bef Changi Beach CP 3  1.390262  103.992957   \n",
       "5038        5038        99171       Changi Beach CP 2  1.391128  103.991021   \n",
       "5039        5039        99181  Bef S'pore Aviation Ac  1.387754  103.988503   \n",
       "5040        5040        99189      S'pore Aviation Ac  1.388414  103.989716   \n",
       "\n",
       "               RoadName planning_area  \n",
       "5036  Changi Village Rd        CHANGI  \n",
       "5037          Nicoll Dr        CHANGI  \n",
       "5038          Nicoll Dr        CHANGI  \n",
       "5039      Telok Paku Rd        CHANGI  \n",
       "5040      Telok Paku Rd        CHANGI  "
      ]
     },
     "execution_count": 4,
     "metadata": {},
     "output_type": "execute_result"
    }
   ],
   "source": [
    "busstops = pd.read_csv('busstop_with_planningarea.csv')\n",
    "busstops.tail(5)"
   ]
  },
  {
   "cell_type": "code",
   "execution_count": 15,
   "metadata": {
    "scrolled": true
   },
   "outputs": [
    {
     "data": {
      "text/html": [
       "<div>\n",
       "<style scoped>\n",
       "    .dataframe tbody tr th:only-of-type {\n",
       "        vertical-align: middle;\n",
       "    }\n",
       "\n",
       "    .dataframe tbody tr th {\n",
       "        vertical-align: top;\n",
       "    }\n",
       "\n",
       "    .dataframe thead th {\n",
       "        text-align: right;\n",
       "    }\n",
       "</style>\n",
       "<table border=\"1\" class=\"dataframe\">\n",
       "  <thead>\n",
       "    <tr style=\"text-align: right;\">\n",
       "      <th></th>\n",
       "      <th>planning_area</th>\n",
       "      <th>Latitude</th>\n",
       "      <th>Longitude</th>\n",
       "    </tr>\n",
       "  </thead>\n",
       "  <tbody>\n",
       "    <tr>\n",
       "      <th>0</th>\n",
       "      <td>ANG MO KIO</td>\n",
       "      <td>1.376949</td>\n",
       "      <td>103.843223</td>\n",
       "    </tr>\n",
       "    <tr>\n",
       "      <th>1</th>\n",
       "      <td>BEDOK</td>\n",
       "      <td>1.323333</td>\n",
       "      <td>103.926021</td>\n",
       "    </tr>\n",
       "    <tr>\n",
       "      <th>2</th>\n",
       "      <td>BISHAN</td>\n",
       "      <td>1.354463</td>\n",
       "      <td>103.841918</td>\n",
       "    </tr>\n",
       "    <tr>\n",
       "      <th>3</th>\n",
       "      <td>BOON LAY</td>\n",
       "      <td>1.317009</td>\n",
       "      <td>103.704350</td>\n",
       "    </tr>\n",
       "    <tr>\n",
       "      <th>4</th>\n",
       "      <td>BUKIT BATOK</td>\n",
       "      <td>1.354050</td>\n",
       "      <td>103.752801</td>\n",
       "    </tr>\n",
       "  </tbody>\n",
       "</table>\n",
       "</div>"
      ],
      "text/plain": [
       "  planning_area  Latitude   Longitude\n",
       "0    ANG MO KIO  1.376949  103.843223\n",
       "1         BEDOK  1.323333  103.926021\n",
       "2        BISHAN  1.354463  103.841918\n",
       "3      BOON LAY  1.317009  103.704350\n",
       "4   BUKIT BATOK  1.354050  103.752801"
      ]
     },
     "execution_count": 15,
     "metadata": {},
     "output_type": "execute_result"
    }
   ],
   "source": [
    "df = busstops.groupby(['planning_area']).mean().reset_index()[['planning_area', 'Latitude', 'Longitude']]\n",
    "df.head()"
   ]
  },
  {
   "cell_type": "code",
   "execution_count": 14,
   "metadata": {},
   "outputs": [],
   "source": [
    "df.to_csv('planning_area_lat_long.csv')"
   ]
  },
  {
   "cell_type": "code",
   "execution_count": null,
   "metadata": {},
   "outputs": [],
   "source": []
  }
 ],
 "metadata": {
  "kernelspec": {
   "display_name": "Python 3",
   "language": "python",
   "name": "python3"
  },
  "language_info": {
   "codemirror_mode": {
    "name": "ipython",
    "version": 3
   },
   "file_extension": ".py",
   "mimetype": "text/x-python",
   "name": "python",
   "nbconvert_exporter": "python",
   "pygments_lexer": "ipython3",
   "version": "3.6.8"
  }
 },
 "nbformat": 4,
 "nbformat_minor": 2
}
